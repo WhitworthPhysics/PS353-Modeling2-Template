{
  "nbformat": 4,
  "nbformat_minor": 0,
  "metadata": {
    "colab": {
      "name": "Pendulum Analysis.ipynb",
      "provenance": [],
      "authorship_tag": "ABX9TyNig3i8yIB+zeINK6wU1mf9"
    },
    "kernelspec": {
      "name": "python3",
      "display_name": "Python 3"
    },
    "language_info": {
      "name": "python"
    }
  },
  "cells": [
    {
      "cell_type": "code",
      "execution_count": null,
      "metadata": {
        "id": "7OuZS06kuIUy"
      },
      "outputs": [],
      "source": [
        "!pip install whit-phys-util 1>/dev/null"
      ]
    },
    {
      "cell_type": "code",
      "source": [
        "import numpy as np\n",
        "import pandas as pd\n",
        "import matplotlib.pyplot as plt\n",
        "import whit_phys_util as buc\n",
        "from scipy.integrate import solve_ivp\n",
        "from scipy.optimize import minimize\n",
        "from numpy import pi, sin, abs"
      ],
      "metadata": {
        "id": "PGWxL3oxuRLI"
      },
      "execution_count": null,
      "outputs": []
    },
    {
      "cell_type": "markdown",
      "source": [
        "# Import the data"
      ],
      "metadata": {
        "id": "CPHIVDVuvGfD"
      }
    },
    {
      "cell_type": "code",
      "source": [
        "repo = buc.local_repository(\"replace me with your repository URL\")"
      ],
      "metadata": {
        "id": "jZt3Ej4yubtM"
      },
      "execution_count": null,
      "outputs": []
    },
    {
      "cell_type": "code",
      "source": [
        ""
      ],
      "metadata": {
        "id": "KgkY72sdvJpY"
      },
      "execution_count": null,
      "outputs": []
    },
    {
      "cell_type": "markdown",
      "source": [
        "# Define the model\n",
        "\n",
        "$$\\ddot{\\theta} = -\\omega_0^2 \\sin \\theta - c \\dot{\\theta} | \\dot{\\theta} |$$"
      ],
      "metadata": {
        "id": "mGff640UvLIj"
      }
    },
    {
      "cell_type": "code",
      "source": [
        ""
      ],
      "metadata": {
        "id": "KX0tmjpTvjDE"
      },
      "execution_count": null,
      "outputs": []
    },
    {
      "cell_type": "markdown",
      "source": [
        "# Manual Fit of Model"
      ],
      "metadata": {
        "id": "CY7PlPCzvyXB"
      }
    },
    {
      "cell_type": "code",
      "source": [
        ""
      ],
      "metadata": {
        "id": "7BZfmwOQv1lu"
      },
      "execution_count": null,
      "outputs": []
    },
    {
      "cell_type": "code",
      "source": [
        "fig, ax = plt.subplots()"
      ],
      "metadata": {
        "id": "of3GHNDOv4UI"
      },
      "execution_count": null,
      "outputs": []
    },
    {
      "cell_type": "markdown",
      "source": [
        "# Numerical Fit of Model"
      ],
      "metadata": {
        "id": "hhWOmpTvwDG3"
      }
    },
    {
      "cell_type": "code",
      "source": [
        ""
      ],
      "metadata": {
        "id": "-GDmo9GawFQf"
      },
      "execution_count": null,
      "outputs": []
    }
  ]
}