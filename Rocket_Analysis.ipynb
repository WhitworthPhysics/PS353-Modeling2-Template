{
  "nbformat": 4,
  "nbformat_minor": 0,
  "metadata": {
    "colab": {
      "name": "Rocket Analysis.ipynb",
      "provenance": [],
      "authorship_tag": "ABX9TyNipr21ZGo9oQ6lDb7mOUYw"
    },
    "kernelspec": {
      "name": "python3",
      "display_name": "Python 3"
    },
    "language_info": {
      "name": "python"
    }
  },
  "cells": [
    {
      "cell_type": "code",
      "execution_count": null,
      "metadata": {
        "id": "toXe03GcwbLk"
      },
      "outputs": [],
      "source": [
        "!pip install whit-phys-util 1>/dev/null"
      ]
    },
    {
      "cell_type": "code",
      "source": [
        "import numpy as np\n",
        "import pandas as pd\n",
        "import matplotlib.pyplot as plt\n",
        "import whit_phys_util as buc\n",
        "from scipy.integrate import solve_ivp\n",
        "from scipy.optimize import minimize\n",
        "from numpy import abs"
      ],
      "metadata": {
        "id": "7q211MdbwfY_"
      },
      "execution_count": null,
      "outputs": []
    },
    {
      "cell_type": "markdown",
      "source": [
        "# Import the data"
      ],
      "metadata": {
        "id": "uziXy0rMwlEf"
      }
    },
    {
      "cell_type": "code",
      "source": [
        "repo = buc.local_repository(\"replace me with your repository URL\")"
      ],
      "metadata": {
        "id": "i6Tgvt4Bwmhg"
      },
      "execution_count": null,
      "outputs": []
    },
    {
      "cell_type": "code",
      "source": [
        ""
      ],
      "metadata": {
        "id": "hIQKFhrzwoLC"
      },
      "execution_count": null,
      "outputs": []
    },
    {
      "cell_type": "markdown",
      "source": [
        "# Define the model"
      ],
      "metadata": {
        "id": "5a9t61mZwo94"
      }
    },
    {
      "cell_type": "code",
      "source": [
        ""
      ],
      "metadata": {
        "id": "ccj0LrMawr-q"
      },
      "execution_count": null,
      "outputs": []
    },
    {
      "cell_type": "markdown",
      "source": [
        "# Manual fit of model"
      ],
      "metadata": {
        "id": "kB08wmIMwtf0"
      }
    },
    {
      "cell_type": "code",
      "source": [
        ""
      ],
      "metadata": {
        "id": "URwAn10SwvSq"
      },
      "execution_count": null,
      "outputs": []
    },
    {
      "cell_type": "code",
      "source": [
        "fig, ax = plt.subplots()"
      ],
      "metadata": {
        "id": "n6G-nse-wwgm"
      },
      "execution_count": null,
      "outputs": []
    },
    {
      "cell_type": "markdown",
      "source": [
        "# Numerical fit of model"
      ],
      "metadata": {
        "id": "anbDcqcwwzS5"
      }
    },
    {
      "cell_type": "code",
      "source": [
        ""
      ],
      "metadata": {
        "id": "9XPnMmLdwyML"
      },
      "execution_count": null,
      "outputs": []
    }
  ]
}